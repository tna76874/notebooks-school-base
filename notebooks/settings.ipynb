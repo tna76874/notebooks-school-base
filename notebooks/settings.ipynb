{
 "cells": [
  {
   "cell_type": "markdown",
   "id": "5e6a63d0-f95c-4f3a-a8f9-141eaa619051",
   "metadata": {},
   "source": [
    "Execute next cell to open a tcp tunnel to cloudflare. To stop, execute the cell after."
   ]
  },
  {
   "cell_type": "code",
   "execution_count": null,
   "id": "7effb8df-957a-49b9-8080-34da33412338",
   "metadata": {},
   "outputs": [],
   "source": [
    "from tnamodules.tunnel import *\n",
    "tunnel_manager = CloudflaredTunnelManager()\n",
    "tunnel_manager.http.start()\n",
    "tunnel_manager.start_tunnel()"
   ]
  },
  {
   "cell_type": "code",
   "execution_count": null,
   "id": "1300033b",
   "metadata": {},
   "outputs": [],
   "source": [
    "tunnel_manager.http.stop()\n",
    "tunnel_manager.stop_tunnel()"
   ]
  }
 ],
 "metadata": {
  "kernelspec": {
   "display_name": "Python 3 (ipykernel)",
   "language": "python",
   "name": "python3"
  },
  "language_info": {
   "codemirror_mode": {
    "name": "ipython",
    "version": 3
   },
   "file_extension": ".py",
   "mimetype": "text/x-python",
   "name": "python",
   "nbconvert_exporter": "python",
   "pygments_lexer": "ipython3",
   "version": "3.8.13"
  }
 },
 "nbformat": 4,
 "nbformat_minor": 5
}
